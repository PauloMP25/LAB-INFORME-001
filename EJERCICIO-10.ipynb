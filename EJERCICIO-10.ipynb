{
 "cells": [
  {
   "attachments": {},
   "cell_type": "markdown",
   "metadata": {},
   "source": [
    "* RECURSIVIDAD\n",
    "\n",
    "    Es una capacidad de una función de llamarse a sí misma.\n",
    "\n",
    "* VENTAJAS\n",
    "\n",
    "- Tenemos una solución más corta y también \"elegante\"\n",
    "- Consume menos memoria y suele ser más rápido\n",
    "- Son más fáciles de leer\n",
    "- Divide un problema complejo en sub-problemas y resulta más sencillo\n",
    "- La generación de secuencias es más fácil con la recursividad que con algunas iteraciones anidadas."
   ]
  }
 ],
 "metadata": {
  "kernelspec": {
   "display_name": "Python 3",
   "language": "python",
   "name": "python3"
  },
  "language_info": {
   "name": "python",
   "version": "3.10.7 (tags/v3.10.7:6cc6b13, Sep  5 2022, 14:08:36) [MSC v.1933 64 bit (AMD64)]"
  },
  "orig_nbformat": 4,
  "vscode": {
   "interpreter": {
    "hash": "fb4569285eef3a3450cb62085a5b1e0da4bce0af555edc33dcf29baf3acc1368"
   }
  }
 },
 "nbformat": 4,
 "nbformat_minor": 2
}
